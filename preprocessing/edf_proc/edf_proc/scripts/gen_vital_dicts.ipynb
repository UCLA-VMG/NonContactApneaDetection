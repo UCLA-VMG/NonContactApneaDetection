{
 "cells": [
  {
   "cell_type": "code",
   "execution_count": 16,
   "metadata": {},
   "outputs": [],
   "source": [
    "import os\n",
    "import sys\n",
    "sys.path.append(r\"C:\\Users\\Adnan\\Documents\\edf_proc_py\\scripts\")\n",
    "sys.path.append(r\"C:\\Users\\Adnan\\Documents\\edf_proc_py\")"
   ]
  },
  {
   "cell_type": "code",
   "execution_count": 17,
   "metadata": {},
   "outputs": [],
   "source": [
    "import utils_edf\n",
    "import mmproc.utils.utils_write as write\n",
    "script_path = r'C:\\Users\\Adnan\\Documents\\edf_proc_py\\scripts'\n",
    "eng = utils_edf.matlab_init(script_path)\n",
    "\n"
   ]
  },
  {
   "cell_type": "code",
   "execution_count": 18,
   "metadata": {},
   "outputs": [
    {
     "name": "stdout",
     "output_type": "stream",
     "text": [
      "patient_3\n",
      "F:\\edf_files\\patient_3\\EXN8YAPW7RBTI9ZT.edf\n",
      "Failed with vital signs: ['EKG', 'AIR_flow', 'PTAF', 'CHEST', 'ABD', 'SaO2']\n",
      "C:\\Users\\Adnan\\Documents\\edf_proc_py\\os_gt\\patient_3\n",
      "patient_2\n",
      "F:\\edf_files\\patient_2\\EXN8YAUKXPBTGH0M.edf\n",
      "Failed with vital signs: ['EKG', 'AIR_flow', 'PTAF', 'CHEST', 'ABD', 'SaO2']\n",
      "C:\\Users\\Adnan\\Documents\\edf_proc_py\\os_gt\\patient_2\n"
     ]
    },
    {
     "ename": "PermissionError",
     "evalue": "[Errno 13] Permission denied: 'C:\\\\Users\\\\Adnan\\\\Documents\\\\edf_proc_py\\\\os_gt\\\\patient_2'",
     "output_type": "error",
     "traceback": [
      "\u001b[1;31m---------------------------------------------------------------------------\u001b[0m",
      "\u001b[1;31mPermissionError\u001b[0m                           Traceback (most recent call last)",
      "\u001b[1;32m~\\AppData\\Local\\Temp/ipykernel_23204/79056055.py\u001b[0m in \u001b[0;36m<module>\u001b[1;34m\u001b[0m\n\u001b[0;32m     50\u001b[0m         \u001b[1;32mif\u001b[0m\u001b[1;33m(\u001b[0m\u001b[0mos\u001b[0m\u001b[1;33m.\u001b[0m\u001b[0mpath\u001b[0m\u001b[1;33m.\u001b[0m\u001b[0mexists\u001b[0m\u001b[1;33m(\u001b[0m\u001b[0mwrite_folder_path\u001b[0m\u001b[1;33m)\u001b[0m \u001b[1;33m==\u001b[0m \u001b[1;32mFalse\u001b[0m\u001b[1;33m)\u001b[0m\u001b[1;33m:\u001b[0m\u001b[1;33m\u001b[0m\u001b[1;33m\u001b[0m\u001b[0m\n\u001b[0;32m     51\u001b[0m             \u001b[0mos\u001b[0m\u001b[1;33m.\u001b[0m\u001b[0mmakedirs\u001b[0m\u001b[1;33m(\u001b[0m\u001b[0mwrite_folder_path\u001b[0m\u001b[1;33m)\u001b[0m\u001b[1;33m\u001b[0m\u001b[1;33m\u001b[0m\u001b[0m\n\u001b[1;32m---> 52\u001b[1;33m             \u001b[0mwrite\u001b[0m\u001b[1;33m.\u001b[0m\u001b[0mwrite_pkl\u001b[0m\u001b[1;33m(\u001b[0m\u001b[0mwrite_folder_path\u001b[0m\u001b[1;33m,\u001b[0m \u001b[1;34m\"vital_dict\"\u001b[0m\u001b[1;33m)\u001b[0m\u001b[1;33m\u001b[0m\u001b[1;33m\u001b[0m\u001b[0m\n\u001b[0m\u001b[0;32m     53\u001b[0m \u001b[1;33m\u001b[0m\u001b[0m\n\u001b[0;32m     54\u001b[0m \u001b[1;33m\u001b[0m\u001b[0m\n",
      "\u001b[1;32mc:\\users\\adnan\\documents\\github\\mmproc\\mmproc\\utils\\utils_write.py\u001b[0m in \u001b[0;36mwrite_pkl\u001b[1;34m(file_path, data)\u001b[0m\n\u001b[0;32m    128\u001b[0m \u001b[1;33m\u001b[0m\u001b[0m\n\u001b[0;32m    129\u001b[0m \u001b[1;32mdef\u001b[0m \u001b[0mwrite_pkl\u001b[0m\u001b[1;33m(\u001b[0m\u001b[0mfile_path\u001b[0m\u001b[1;33m:\u001b[0m \u001b[0mstr\u001b[0m\u001b[1;33m,\u001b[0m \u001b[0mdata\u001b[0m\u001b[1;33m:\u001b[0m \u001b[0mnp\u001b[0m\u001b[1;33m.\u001b[0m\u001b[0mndarray\u001b[0m\u001b[1;33m)\u001b[0m \u001b[1;33m->\u001b[0m \u001b[0mbool\u001b[0m\u001b[1;33m:\u001b[0m\u001b[1;33m\u001b[0m\u001b[1;33m\u001b[0m\u001b[0m\n\u001b[1;32m--> 130\u001b[1;33m     \u001b[1;32mwith\u001b[0m \u001b[0mopen\u001b[0m\u001b[1;33m(\u001b[0m\u001b[0mfile_path\u001b[0m\u001b[1;33m,\u001b[0m \u001b[1;34m'wb'\u001b[0m\u001b[1;33m)\u001b[0m \u001b[1;32mas\u001b[0m \u001b[0mf\u001b[0m\u001b[1;33m:\u001b[0m\u001b[1;33m\u001b[0m\u001b[1;33m\u001b[0m\u001b[0m\n\u001b[0m\u001b[0;32m    131\u001b[0m         \u001b[0mpickle\u001b[0m\u001b[1;33m.\u001b[0m\u001b[0mdump\u001b[0m\u001b[1;33m(\u001b[0m\u001b[0mdata\u001b[0m\u001b[1;33m,\u001b[0m \u001b[0mf\u001b[0m\u001b[1;33m,\u001b[0m \u001b[0mprotocol\u001b[0m\u001b[1;33m=\u001b[0m\u001b[0mpickle\u001b[0m\u001b[1;33m.\u001b[0m\u001b[0mHIGHEST_PROTOCOL\u001b[0m\u001b[1;33m)\u001b[0m\u001b[1;33m\u001b[0m\u001b[1;33m\u001b[0m\u001b[0m\n\u001b[0;32m    132\u001b[0m     \u001b[1;32mreturn\u001b[0m \u001b[1;32mTrue\u001b[0m\u001b[1;33m\u001b[0m\u001b[1;33m\u001b[0m\u001b[0m\n",
      "\u001b[1;31mPermissionError\u001b[0m: [Errno 13] Permission denied: 'C:\\\\Users\\\\Adnan\\\\Documents\\\\edf_proc_py\\\\os_gt\\\\patient_2'"
     ]
    }
   ],
   "source": [
    "edf_dir_pth = \"F:\\edf_files\"\n",
    "patient_ids = os.listdir(edf_dir_pth)\n",
    "\n",
    "for p_id in patient_ids:\n",
    "    p_id_path = os.path.join(edf_dir_pth, p_id)\n",
    "    print(p_id)\n",
    "    filename = os.listdir(p_id_path)\n",
    "    \n",
    "    if(len(filename) != 0):\n",
    "        file = os.path.join(p_id_path, filename[0]) \n",
    "        signals  = [\"EKG\", \"AIR_flow\", \"PTAF\", \"CHEST\", \"ABD\", \"SaO2\"]\n",
    "\n",
    "        #signals_v1 = [\"EKG\", \"AIR_flow\", \"PTAF\", \"CHEST\", \"ABD\", \"SaO2\", \"ImagingResearch\", \"PLETH\"]\n",
    "        # signals_v1 = [\"EKG\"]\n",
    "        # signals_v3 = [\"EKG\", \"AIR_flow\", \"PTAF\", \"CHEST\", \"ABD\", \"SaO2\", \"ImagingResearch\"]\n",
    "        # signals_v4  = [\"EKG\", \"AIR_flow\", \"PTAF\", \"CHEST\", \"ABD\", \"SaO2\", \"IMAGINE\"]\n",
    "        print(file)\n",
    "\n",
    "        try:\n",
    "            vital_dict = utils_edf.get_signals(file, signals, eng)\n",
    "        except:\n",
    "            print(f\"Failed with vital signs: {signals}\")\n",
    "        \n",
    "        # try:\n",
    "        #     vital_dict = utils_edf.get_signals(file, signals_v1, eng)\n",
    "        # except:\n",
    "        #     print(f\"Failed with vital signs: {signals_v1}\")\n",
    "\n",
    "        # try:\n",
    "        #     vital_dict = utils_edf.get_signals(file, signals_v2, eng)\n",
    "        # except:\n",
    "        #     print(f\"Failed with vital signs: {signals_v2}\")\n",
    "\n",
    "        # try:\n",
    "        #     vital_dict = utils_edf.get_signals(file, signals_v3, eng)\n",
    "        # except:\n",
    "        #     print(f\"Failed with vital signs: {signals_v3}\")\n",
    "        \n",
    "        # try:\n",
    "        #     vital_dict = utils_edf.get_signals(file, signals_v4, eng)\n",
    "        # except:\n",
    "            # print(f\"Failed with vital signs: {signals_v4}\")\n",
    "\n",
    "        \n",
    "        write_folder_path = r\"C:\\Users\\Adnan\\Documents\\edf_proc_py\\os_gt\" # write_dir, p_id\n",
    "        write_folder_path = os.path.join(write_folder_path, p_id)\n",
    "        print(write_folder_path)\n",
    "        # check if write_folder_path exists (os.path.exists(write_folder_path))\n",
    "\n",
    "        if(os.path.exists(write_folder_path) == False):\n",
    "            os.makedirs(write_folder_path)\n",
    "            write.write_pkl(write_folder_path, \"vital_dict.pkl\")\n",
    "\n",
    "\n",
    "        # if it does not exist, then create the folder path  using os.makedirs()\n",
    "        # write_folder_path, vital_dict.pkl\n",
    "        \n",
    "\n",
    "\n",
    "\n",
    "        "
   ]
  },
  {
   "cell_type": "code",
   "execution_count": null,
   "metadata": {},
   "outputs": [],
   "source": []
  }
 ],
 "metadata": {
  "kernelspec": {
   "display_name": "Python 3.8.12 ('mml_p')",
   "language": "python",
   "name": "python3"
  },
  "language_info": {
   "codemirror_mode": {
    "name": "ipython",
    "version": 3
   },
   "file_extension": ".py",
   "mimetype": "text/x-python",
   "name": "python",
   "nbconvert_exporter": "python",
   "pygments_lexer": "ipython3",
   "version": "3.8.12 (default, Oct 12 2021, 03:01:40) [MSC v.1916 64 bit (AMD64)]"
  },
  "orig_nbformat": 4,
  "vscode": {
   "interpreter": {
    "hash": "1c01d7ee77990cd092843cc46f878c807010b6a37cdf5fb3233b84ad00630919"
   }
  }
 },
 "nbformat": 4,
 "nbformat_minor": 2
}
