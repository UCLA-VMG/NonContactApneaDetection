{
 "cells": [
  {
   "cell_type": "code",
   "execution_count": 1,
   "metadata": {},
   "outputs": [],
   "source": [
    "import numpy as np\n",
    "import utils_edf\n",
    "import utils_html\n",
    "import math\n",
    "from matplotlib import pyplot as plt\n",
    "import os\n",
    "import lxml\n",
    "import pickle\n",
    "import mmproc.utils.utils_write as write\n",
    "import scipy.signal"
   ]
  },
  {
   "cell_type": "code",
   "execution_count": 12,
   "metadata": {},
   "outputs": [],
   "source": [
    "edf_path = r'/media/vmggen/OSA_HDD_5/osa_raw_new/patient_12/GT_POLYGRAPH.edf'\n",
    "html_path = r'/media/vmggen/OSA_HDD_5/osa_raw_new/patient_12/APNEA HYPOPNEA REPORT.html'\n",
    "sync_signal_name = \"Wireless\"\n",
    "signal_names = [sync_signal_name, \"CHEST\", \"ABD\", \"PTAF\", \"AIR_flow\"]\n",
    "signal_names_alt = [\"CHEST\", \"ABD\", \"PTAF\", \"AIR_flow\"]\n",
    "signal_names_pt6 = [\"SignalLabel15_AIR_flow\", \"SignalLabel14_PTAF\", \"SignalLabel16_CHEST\", \"SignalLabel17_ABD\", \"SignalLabel19_Wireless\"]\n",
    "script_path = r'/media/vmggen/A6F0E663F0E638E7/Users/Adnan/Documents/edf_proc_py/scripts'\n",
    "trial_length = 216000\n",
    "sample_rates = {\n",
    "    'LOC' : 200,\n",
    "    'ROC' : 200,\n",
    "    'CHIN' : 200,\n",
    "    'F4_M1' : 200,\n",
    "    'C4_M1' : 200,\n",
    "    'O2_M1' : 200,\n",
    "    'R_R' : 200,\n",
    "    'EKG' : 200,\n",
    "    'LLEG' : 200,\n",
    "    'RLEG' : 200,\n",
    "    'SNORE' : 200,\n",
    "    'CFLOW' : 25,\n",
    "    'PTAF' : 200,\n",
    "    'AIR_flow' : 200,\n",
    "    'CHEST' : 200,\n",
    "    'ABD' : 200,\n",
    "    'SaO2' : 25,\n",
    "    'PLETH' : 200,\n",
    "    sync_signal_name: 25,\n",
    "    'EtCO2' : 25,\n",
    "    \"OSA\": 200,\n",
    "    \"CSA\": 200,\n",
    "    \"MSA\": 200,\n",
    "    \"Partial_Apnea\": 200,\n",
    "    \"Hypopnea\": 200\n",
    "}"
   ]
  },
  {
   "cell_type": "code",
   "execution_count": 13,
   "metadata": {},
   "outputs": [],
   "source": [
    "signals_raw = utils_edf.get_signals(edf_path, signal_names, utils_edf.matlab_init(script_path)) "
   ]
  },
  {
   "cell_type": "code",
   "execution_count": 15,
   "metadata": {},
   "outputs": [],
   "source": [
    "signals_raw = utils_html.add_apnea_dicts(html_path,signals_raw)"
   ]
  },
  {
   "cell_type": "code",
   "execution_count": 7,
   "metadata": {},
   "outputs": [
    {
     "name": "stdout",
     "output_type": "stream",
     "text": [
      "Processing signal:  Wireless\n"
     ]
    },
    {
     "name": "stderr",
     "output_type": "stream",
     "text": [
      "107999it [00:00, 226425.11it/s]\n"
     ]
    },
    {
     "name": "stdout",
     "output_type": "stream",
     "text": [
      "Processing signal:  CHEST\n"
     ]
    },
    {
     "name": "stderr",
     "output_type": "stream",
     "text": [
      "107999it [00:01, 83526.65it/s]\n"
     ]
    },
    {
     "name": "stdout",
     "output_type": "stream",
     "text": [
      "Processing signal:  ABD\n"
     ]
    },
    {
     "name": "stderr",
     "output_type": "stream",
     "text": [
      "107999it [00:01, 106612.98it/s]\n"
     ]
    },
    {
     "name": "stdout",
     "output_type": "stream",
     "text": [
      "Processing signal:  PTAF\n"
     ]
    },
    {
     "name": "stderr",
     "output_type": "stream",
     "text": [
      "107999it [00:01, 98452.88it/s] \n"
     ]
    },
    {
     "name": "stdout",
     "output_type": "stream",
     "text": [
      "Processing signal:  AIR_flow\n"
     ]
    },
    {
     "name": "stderr",
     "output_type": "stream",
     "text": [
      "107999it [00:01, 62501.55it/s]\n"
     ]
    },
    {
     "name": "stdout",
     "output_type": "stream",
     "text": [
      "Processing signal:  OSA\n"
     ]
    },
    {
     "name": "stderr",
     "output_type": "stream",
     "text": [
      "107999it [00:01, 99355.03it/s]\n"
     ]
    },
    {
     "name": "stdout",
     "output_type": "stream",
     "text": [
      "Processing signal:  CSA\n"
     ]
    },
    {
     "name": "stderr",
     "output_type": "stream",
     "text": [
      "107999it [00:01, 104350.48it/s]\n"
     ]
    },
    {
     "name": "stdout",
     "output_type": "stream",
     "text": [
      "Processing signal:  MSA\n"
     ]
    },
    {
     "name": "stderr",
     "output_type": "stream",
     "text": [
      "107999it [00:01, 106511.28it/s]\n"
     ]
    },
    {
     "name": "stdout",
     "output_type": "stream",
     "text": [
      "Processing signal:  Partial_Apnea\n"
     ]
    },
    {
     "name": "stderr",
     "output_type": "stream",
     "text": [
      "107999it [00:01, 98812.96it/s]\n"
     ]
    },
    {
     "name": "stdout",
     "output_type": "stream",
     "text": [
      "Processing signal:  Hypopnea\n"
     ]
    },
    {
     "name": "stderr",
     "output_type": "stream",
     "text": [
      "107999it [00:01, 96087.49it/s]\n"
     ]
    }
   ],
   "source": [
    "signals_dicts = utils_edf.process_signals(signals_raw, signal_names, sample_rates, trial_length, sync_signal_name, 30) # process signals"
   ]
  },
  {
   "cell_type": "code",
   "execution_count": 8,
   "metadata": {},
   "outputs": [],
   "source": [
    "for i in range(3):\n",
    "    signals_dicts[i][\"OSA\"] = signals_dicts[i][\"OSA\"] > 0.5\n",
    "    signals_dicts[i][\"CSA\"] = signals_dicts[i][\"CSA\"] > 0.5\n",
    "    signals_dicts[i][\"MSA\"] = signals_dicts[i][\"MSA\"] > 0.5\n",
    "    signals_dicts[i][\"Partial_Apnea\"] = signals_dicts[i][\"Partial_Apnea\"] > 0.5\n",
    "    signals_dicts[i][\"Hypopnea\"] = signals_dicts[i][\"Hypopnea\"] > 0.5"
   ]
  },
  {
   "cell_type": "code",
   "execution_count": 10,
   "metadata": {},
   "outputs": [],
   "source": [
    "for i in range(3):\n",
    "    with open(r\"F:\\osa_raw_new\\patient_13\\gt_dict\" + str(i) + \".pkl\", \"wb\") as f:\n",
    "        pickle.dump(signals_dicts[i], f)"
   ]
  }
 ],
 "metadata": {
  "kernelspec": {
   "display_name": "mmproc",
   "language": "python",
   "name": "python3"
  },
  "language_info": {
   "codemirror_mode": {
    "name": "ipython",
    "version": 3
   },
   "file_extension": ".py",
   "mimetype": "text/x-python",
   "name": "python",
   "nbconvert_exporter": "python",
   "pygments_lexer": "ipython3",
   "version": "3.8.12"
  }
 },
 "nbformat": 4,
 "nbformat_minor": 2
}
